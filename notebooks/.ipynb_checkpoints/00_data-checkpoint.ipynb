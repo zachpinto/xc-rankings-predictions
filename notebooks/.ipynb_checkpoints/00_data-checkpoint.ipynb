{
 "cells": [
  {
   "cell_type": "code",
   "execution_count": 2,
   "id": "initial_id",
   "metadata": {},
   "outputs": [],
   "source": [
    "import pandas as pd\n",
    "import os\n",
    "import re"
   ]
  },
  {
   "cell_type": "code",
   "execution_count": 4,
   "id": "8e1033c3-0508-4e07-a35c-1972d9429c3e",
   "metadata": {},
   "outputs": [
    {
     "data": {
      "text/html": [
       "<div>\n",
       "<style scoped>\n",
       "    .dataframe tbody tr th:only-of-type {\n",
       "        vertical-align: middle;\n",
       "    }\n",
       "\n",
       "    .dataframe tbody tr th {\n",
       "        vertical-align: top;\n",
       "    }\n",
       "\n",
       "    .dataframe thead th {\n",
       "        text-align: right;\n",
       "    }\n",
       "</style>\n",
       "<table border=\"1\" class=\"dataframe\">\n",
       "  <thead>\n",
       "    <tr style=\"text-align: right;\">\n",
       "      <th></th>\n",
       "      <th>Name</th>\n",
       "      <th>Grade</th>\n",
       "      <th>School</th>\n",
       "      <th>Time</th>\n",
       "    </tr>\n",
       "  </thead>\n",
       "  <tbody>\n",
       "    <tr>\n",
       "      <th>0</th>\n",
       "      <td>Delago, Christian</td>\n",
       "      <td>11</td>\n",
       "      <td>Shaker</td>\n",
       "      <td>15:07.11</td>\n",
       "    </tr>\n",
       "    <tr>\n",
       "      <th>1</th>\n",
       "      <td>Place, Sam</td>\n",
       "      <td>SR</td>\n",
       "      <td>Saratoga Springs HS</td>\n",
       "      <td>15:16.88</td>\n",
       "    </tr>\n",
       "    <tr>\n",
       "      <th>2</th>\n",
       "      <td>Libruk, Mike</td>\n",
       "      <td>11</td>\n",
       "      <td>Shaker</td>\n",
       "      <td>15:19.48</td>\n",
       "    </tr>\n",
       "    <tr>\n",
       "      <th>3</th>\n",
       "      <td>Pagano, Marshall</td>\n",
       "      <td>Sr</td>\n",
       "      <td>Niskayuna</td>\n",
       "      <td>15:23.05</td>\n",
       "    </tr>\n",
       "    <tr>\n",
       "      <th>4</th>\n",
       "      <td>Dorset, Ian</td>\n",
       "      <td>12</td>\n",
       "      <td>Shenendehowa</td>\n",
       "      <td>15:24.26</td>\n",
       "    </tr>\n",
       "  </tbody>\n",
       "</table>\n",
       "</div>"
      ],
      "text/plain": [
       "                Name Grade               School      Time\n",
       "0  Delago, Christian    11               Shaker  15:07.11\n",
       "1         Place, Sam    SR  Saratoga Springs HS  15:16.88\n",
       "2       Libruk, Mike    11               Shaker  15:19.48\n",
       "3   Pagano, Marshall    Sr            Niskayuna  15:23.05\n",
       "4        Dorset, Ian    12         Shenendehowa  15:24.26"
      ]
     },
     "execution_count": 4,
     "metadata": {},
     "output_type": "execute_result"
    }
   ],
   "source": [
    "# Load the first CSV file\n",
    "file_path = '../data/interim/2010.csv'  # Update this path to the location of your file\n",
    "df_2010 = pd.read_csv(file_path)\n",
    "\n",
    "# Display the first few rows to understand the structure\n",
    "df_2010.head()"
   ]
  },
  {
   "cell_type": "code",
   "execution_count": 5,
   "id": "ad00695f-8b62-4b9f-a55a-2e6b1ba367bf",
   "metadata": {},
   "outputs": [
    {
     "name": "stdout",
     "output_type": "stream",
     "text": [
      "Total NA values: 42\n"
     ]
    }
   ],
   "source": [
    "# Check for NA values\n",
    "na_values = df_2010.isna().sum().sum()\n",
    "print(f\"Total NA values: {na_values}\")"
   ]
  },
  {
   "cell_type": "code",
   "execution_count": 6,
   "id": "c15cd8c8-13e7-4326-b985-c638bec29226",
   "metadata": {},
   "outputs": [
    {
     "name": "stdout",
     "output_type": "stream",
     "text": [
      "First column contains only names: True\n"
     ]
    }
   ],
   "source": [
    "# Check if the first column contains only names (assuming names are strings)\n",
    "name_check = df_2010['Name'].apply(lambda x: isinstance(x, str)).all()\n",
    "print(f\"First column contains only names: {name_check}\")"
   ]
  },
  {
   "cell_type": "code",
   "execution_count": 7,
   "id": "64dcd6e3-efbc-48a6-a9b0-a73db115d9ee",
   "metadata": {},
   "outputs": [
    {
     "name": "stdout",
     "output_type": "stream",
     "text": [
      "Second column contains only valid grades: False\n"
     ]
    }
   ],
   "source": [
    "# Define a pattern for valid grades\n",
    "grade_pattern = re.compile(r'^(11|12|JR|SR|So|FR)$', re.IGNORECASE)\n",
    "\n",
    "# Check if the second column contains only valid grades\n",
    "grade_check = df_2010['Grade'].apply(lambda x: bool(grade_pattern.match(str(x)))).all()\n",
    "print(f\"Second column contains only valid grades: {grade_check}\")"
   ]
  },
  {
   "cell_type": "code",
   "execution_count": 8,
   "id": "4f447abc-738d-4ebe-a0d4-096e8dfc9c35",
   "metadata": {},
   "outputs": [
    {
     "name": "stdout",
     "output_type": "stream",
     "text": [
      "Third column contains only school names: False\n"
     ]
    }
   ],
   "source": [
    "# Check if the third column contains only school names (assuming school names are strings)\n",
    "school_check = df_2010['School'].apply(lambda x: isinstance(x, str)).all()\n",
    "print(f\"Third column contains only school names: {school_check}\")"
   ]
  },
  {
   "cell_type": "code",
   "execution_count": 9,
   "id": "a71ce798-fd0b-474f-87d6-e6f06edfa3ef",
   "metadata": {},
   "outputs": [
    {
     "name": "stdout",
     "output_type": "stream",
     "text": [
      "Fourth column contains only valid times: False\n"
     ]
    }
   ],
   "source": [
    "# Define a pattern for valid times\n",
    "time_pattern = re.compile(r'^\\d{1,2}:\\d{2}\\.\\d{2}$')\n",
    "\n",
    "# Check if the fourth column contains only valid times\n",
    "time_check = df_2010['Time'].apply(lambda x: bool(time_pattern.match(str(x)))).all()\n",
    "print(f\"Fourth column contains only valid times: {time_check}\")"
   ]
  },
  {
   "cell_type": "code",
   "execution_count": null,
   "id": "a05947f9-9fb5-4833-9c1a-7403e9fefe22",
   "metadata": {},
   "outputs": [],
   "source": []
  }
 ],
 "metadata": {
  "kernelspec": {
   "display_name": "Python 3 (ipykernel)",
   "language": "python",
   "name": "python3"
  },
  "language_info": {
   "codemirror_mode": {
    "name": "ipython",
    "version": 3
   },
   "file_extension": ".py",
   "mimetype": "text/x-python",
   "name": "python",
   "nbconvert_exporter": "python",
   "pygments_lexer": "ipython3",
   "version": "3.11.9"
  }
 },
 "nbformat": 4,
 "nbformat_minor": 5
}
