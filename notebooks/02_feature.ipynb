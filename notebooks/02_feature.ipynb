{
 "cells": [
  {
   "cell_type": "code",
   "id": "initial_id",
   "metadata": {
    "collapsed": true,
    "ExecuteTime": {
     "end_time": "2024-06-02T18:34:06.608019Z",
     "start_time": "2024-06-02T18:34:05.848310Z"
    }
   },
   "source": [
    "import pandas as pd\n",
    "\n",
    "file_path = '../data/interim/data.csv'\n",
    "\n",
    "df = pd.read_csv(file_path)\n",
    "\n",
    "# Convert Year and Grade to integers\n",
    "df['Year'] = df['Year'].astype(int)\n",
    "df['Grade'] = df['Grade'].astype(int)\n",
    "\n",
    "df.head()"
   ],
   "outputs": [
    {
     "data": {
      "text/plain": [
       "   Grade  Year     Time School    Name\n",
       "0     12  2011   936.15     A1     ID1\n",
       "1     11  2010   907.11     A1     ID1\n",
       "2      9  2010   927.28     A7    ID10\n",
       "3     10  2010  1020.66     A2   ID100\n",
       "4     12  2014  1063.18     D2  ID1000"
      ],
      "text/html": [
       "<div>\n",
       "<style scoped>\n",
       "    .dataframe tbody tr th:only-of-type {\n",
       "        vertical-align: middle;\n",
       "    }\n",
       "\n",
       "    .dataframe tbody tr th {\n",
       "        vertical-align: top;\n",
       "    }\n",
       "\n",
       "    .dataframe thead th {\n",
       "        text-align: right;\n",
       "    }\n",
       "</style>\n",
       "<table border=\"1\" class=\"dataframe\">\n",
       "  <thead>\n",
       "    <tr style=\"text-align: right;\">\n",
       "      <th></th>\n",
       "      <th>Grade</th>\n",
       "      <th>Year</th>\n",
       "      <th>Time</th>\n",
       "      <th>School</th>\n",
       "      <th>Name</th>\n",
       "    </tr>\n",
       "  </thead>\n",
       "  <tbody>\n",
       "    <tr>\n",
       "      <th>0</th>\n",
       "      <td>12</td>\n",
       "      <td>2011</td>\n",
       "      <td>936.15</td>\n",
       "      <td>A1</td>\n",
       "      <td>ID1</td>\n",
       "    </tr>\n",
       "    <tr>\n",
       "      <th>1</th>\n",
       "      <td>11</td>\n",
       "      <td>2010</td>\n",
       "      <td>907.11</td>\n",
       "      <td>A1</td>\n",
       "      <td>ID1</td>\n",
       "    </tr>\n",
       "    <tr>\n",
       "      <th>2</th>\n",
       "      <td>9</td>\n",
       "      <td>2010</td>\n",
       "      <td>927.28</td>\n",
       "      <td>A7</td>\n",
       "      <td>ID10</td>\n",
       "    </tr>\n",
       "    <tr>\n",
       "      <th>3</th>\n",
       "      <td>10</td>\n",
       "      <td>2010</td>\n",
       "      <td>1020.66</td>\n",
       "      <td>A2</td>\n",
       "      <td>ID100</td>\n",
       "    </tr>\n",
       "    <tr>\n",
       "      <th>4</th>\n",
       "      <td>12</td>\n",
       "      <td>2014</td>\n",
       "      <td>1063.18</td>\n",
       "      <td>D2</td>\n",
       "      <td>ID1000</td>\n",
       "    </tr>\n",
       "  </tbody>\n",
       "</table>\n",
       "</div>"
      ]
     },
     "execution_count": 1,
     "metadata": {},
     "output_type": "execute_result"
    }
   ],
   "execution_count": 1
  },
  {
   "metadata": {
    "ExecuteTime": {
     "end_time": "2024-06-02T18:34:14.507134Z",
     "start_time": "2024-06-02T18:34:14.478548Z"
    }
   },
   "cell_type": "code",
   "source": [
    "def increment_grades(df):\n",
    "    df['Grade'] = df['Grade'] + (df['Year'] - df.groupby('Name')['Year'].shift(1).fillna(df['Year']) - 1)\n",
    "    df = df[df['Grade'] <= 12]\n",
    "    return df\n",
    "\n",
    "df = increment_grades(df)\n",
    "\n",
    "# Display the updated dataframe\n",
    "df.head()"
   ],
   "id": "3b2de613ce53800c",
   "outputs": [
    {
     "data": {
      "text/plain": [
       "   Grade  Year     Time School    Name\n",
       "0   11.0  2011   936.15     A1     ID1\n",
       "1    9.0  2010   907.11     A1     ID1\n",
       "2    8.0  2010   927.28     A7    ID10\n",
       "3    9.0  2010  1020.66     A2   ID100\n",
       "4   11.0  2014  1063.18     D2  ID1000"
      ],
      "text/html": [
       "<div>\n",
       "<style scoped>\n",
       "    .dataframe tbody tr th:only-of-type {\n",
       "        vertical-align: middle;\n",
       "    }\n",
       "\n",
       "    .dataframe tbody tr th {\n",
       "        vertical-align: top;\n",
       "    }\n",
       "\n",
       "    .dataframe thead th {\n",
       "        text-align: right;\n",
       "    }\n",
       "</style>\n",
       "<table border=\"1\" class=\"dataframe\">\n",
       "  <thead>\n",
       "    <tr style=\"text-align: right;\">\n",
       "      <th></th>\n",
       "      <th>Grade</th>\n",
       "      <th>Year</th>\n",
       "      <th>Time</th>\n",
       "      <th>School</th>\n",
       "      <th>Name</th>\n",
       "    </tr>\n",
       "  </thead>\n",
       "  <tbody>\n",
       "    <tr>\n",
       "      <th>0</th>\n",
       "      <td>11.0</td>\n",
       "      <td>2011</td>\n",
       "      <td>936.15</td>\n",
       "      <td>A1</td>\n",
       "      <td>ID1</td>\n",
       "    </tr>\n",
       "    <tr>\n",
       "      <th>1</th>\n",
       "      <td>9.0</td>\n",
       "      <td>2010</td>\n",
       "      <td>907.11</td>\n",
       "      <td>A1</td>\n",
       "      <td>ID1</td>\n",
       "    </tr>\n",
       "    <tr>\n",
       "      <th>2</th>\n",
       "      <td>8.0</td>\n",
       "      <td>2010</td>\n",
       "      <td>927.28</td>\n",
       "      <td>A7</td>\n",
       "      <td>ID10</td>\n",
       "    </tr>\n",
       "    <tr>\n",
       "      <th>3</th>\n",
       "      <td>9.0</td>\n",
       "      <td>2010</td>\n",
       "      <td>1020.66</td>\n",
       "      <td>A2</td>\n",
       "      <td>ID100</td>\n",
       "    </tr>\n",
       "    <tr>\n",
       "      <th>4</th>\n",
       "      <td>11.0</td>\n",
       "      <td>2014</td>\n",
       "      <td>1063.18</td>\n",
       "      <td>D2</td>\n",
       "      <td>ID1000</td>\n",
       "    </tr>\n",
       "  </tbody>\n",
       "</table>\n",
       "</div>"
      ]
     },
     "execution_count": 2,
     "metadata": {},
     "output_type": "execute_result"
    }
   ],
   "execution_count": 2
  },
  {
   "metadata": {
    "ExecuteTime": {
     "end_time": "2024-06-02T18:35:21.831375Z",
     "start_time": "2024-06-02T18:35:21.775377Z"
    }
   },
   "cell_type": "code",
   "source": [
    "import numpy as np\n",
    "\n",
    "def impute_new_runners(df, year):\n",
    "    schools = df['School'].unique()\n",
    "    new_runners = []\n",
    "    \n",
    "    for school in schools:\n",
    "        school_df = df[df['School'] == school]\n",
    "        existing_runners = school_df[school_df['Year'] == year]\n",
    "        \n",
    "        if len(existing_runners) < 10:\n",
    "            missing_runners = 10 - len(existing_runners)\n",
    "            historical_times = school_df[school_df['Year'] < year]['Time']\n",
    "            if not historical_times.empty:\n",
    "                imputed_times = np.random.choice(historical_times, missing_runners, replace=True)\n",
    "                for time in imputed_times:\n",
    "                    new_runners.append({\n",
    "                        'Name': 'Imputed_Runner',\n",
    "                        'Grade': 9,\n",
    "                        'School': school,\n",
    "                        'Year': year,\n",
    "                        'Time': time\n",
    "                    })\n",
    "    \n",
    "    return pd.DataFrame(new_runners)\n",
    "\n",
    "new_runners_2018 = impute_new_runners(df, 2018)\n",
    "new_runners_2019 = impute_new_runners(df, 2019)\n",
    "\n",
    "# Add new runners to the dataframe\n",
    "df = pd.concat([df, new_runners_2018, new_runners_2019])\n",
    "\n",
    "# Display the dataframe with new runners\n",
    "df.head()"
   ],
   "id": "699c7e8a624ad77e",
   "outputs": [
    {
     "data": {
      "text/plain": [
       "   Grade  Year     Time School    Name\n",
       "0   11.0  2011   936.15     A1     ID1\n",
       "1    9.0  2010   907.11     A1     ID1\n",
       "2    8.0  2010   927.28     A7    ID10\n",
       "3    9.0  2010  1020.66     A2   ID100\n",
       "4   11.0  2014  1063.18     D2  ID1000"
      ],
      "text/html": [
       "<div>\n",
       "<style scoped>\n",
       "    .dataframe tbody tr th:only-of-type {\n",
       "        vertical-align: middle;\n",
       "    }\n",
       "\n",
       "    .dataframe tbody tr th {\n",
       "        vertical-align: top;\n",
       "    }\n",
       "\n",
       "    .dataframe thead th {\n",
       "        text-align: right;\n",
       "    }\n",
       "</style>\n",
       "<table border=\"1\" class=\"dataframe\">\n",
       "  <thead>\n",
       "    <tr style=\"text-align: right;\">\n",
       "      <th></th>\n",
       "      <th>Grade</th>\n",
       "      <th>Year</th>\n",
       "      <th>Time</th>\n",
       "      <th>School</th>\n",
       "      <th>Name</th>\n",
       "    </tr>\n",
       "  </thead>\n",
       "  <tbody>\n",
       "    <tr>\n",
       "      <th>0</th>\n",
       "      <td>11.0</td>\n",
       "      <td>2011</td>\n",
       "      <td>936.15</td>\n",
       "      <td>A1</td>\n",
       "      <td>ID1</td>\n",
       "    </tr>\n",
       "    <tr>\n",
       "      <th>1</th>\n",
       "      <td>9.0</td>\n",
       "      <td>2010</td>\n",
       "      <td>907.11</td>\n",
       "      <td>A1</td>\n",
       "      <td>ID1</td>\n",
       "    </tr>\n",
       "    <tr>\n",
       "      <th>2</th>\n",
       "      <td>8.0</td>\n",
       "      <td>2010</td>\n",
       "      <td>927.28</td>\n",
       "      <td>A7</td>\n",
       "      <td>ID10</td>\n",
       "    </tr>\n",
       "    <tr>\n",
       "      <th>3</th>\n",
       "      <td>9.0</td>\n",
       "      <td>2010</td>\n",
       "      <td>1020.66</td>\n",
       "      <td>A2</td>\n",
       "      <td>ID100</td>\n",
       "    </tr>\n",
       "    <tr>\n",
       "      <th>4</th>\n",
       "      <td>11.0</td>\n",
       "      <td>2014</td>\n",
       "      <td>1063.18</td>\n",
       "      <td>D2</td>\n",
       "      <td>ID1000</td>\n",
       "    </tr>\n",
       "  </tbody>\n",
       "</table>\n",
       "</div>"
      ]
     },
     "execution_count": 3,
     "metadata": {},
     "output_type": "execute_result"
    }
   ],
   "execution_count": 3
  },
  {
   "metadata": {
    "ExecuteTime": {
     "end_time": "2024-06-02T18:35:38.115456Z",
     "start_time": "2024-06-02T18:35:38.092887Z"
    }
   },
   "cell_type": "code",
   "source": [
    "# Save the updated dataframe to a new file\n",
    "file_path = '../data/processed/data.csv'\n",
    "\n",
    "df.to_csv(file_path, index=False)\n",
    "\n",
    "# Display the file path\n",
    "file_path"
   ],
   "id": "dc7cdce5e799012c",
   "outputs": [
    {
     "data": {
      "text/plain": [
       "'../data/processed/data.csv'"
      ]
     },
     "execution_count": 4,
     "metadata": {},
     "output_type": "execute_result"
    }
   ],
   "execution_count": 4
  },
  {
   "metadata": {},
   "cell_type": "code",
   "outputs": [],
   "execution_count": null,
   "source": "",
   "id": "6e97a3308bf8ba72"
  }
 ],
 "metadata": {
  "kernelspec": {
   "display_name": "Python 3",
   "language": "python",
   "name": "python3"
  },
  "language_info": {
   "codemirror_mode": {
    "name": "ipython",
    "version": 2
   },
   "file_extension": ".py",
   "mimetype": "text/x-python",
   "name": "python",
   "nbconvert_exporter": "python",
   "pygments_lexer": "ipython2",
   "version": "2.7.6"
  }
 },
 "nbformat": 4,
 "nbformat_minor": 5
}
